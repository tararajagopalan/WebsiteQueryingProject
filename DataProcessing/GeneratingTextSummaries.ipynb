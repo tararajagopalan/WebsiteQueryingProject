{
  "nbformat": 4,
  "nbformat_minor": 0,
  "metadata": {
    "colab": {
      "provenance": [],
      "mount_file_id": "1WUfxQFwqdLmM4R3LIIplvFpytw1gB65E",
      "authorship_tag": "ABX9TyM2utRPNfhvkgrfgpySBxYR",
      "include_colab_link": true
    },
    "kernelspec": {
      "name": "python3",
      "display_name": "Python 3"
    },
    "language_info": {
      "name": "python"
    }
  },
  "cells": [
    {
      "cell_type": "markdown",
      "metadata": {
        "id": "view-in-github",
        "colab_type": "text"
      },
      "source": [
        "<a href=\"https://colab.research.google.com/github/tararajagopalan/WebsiteQueryingProject/blob/main/GeneratingTextSummaries.ipynb\" target=\"_parent\"><img src=\"https://colab.research.google.com/assets/colab-badge.svg\" alt=\"Open In Colab\"/></a>"
      ]
    },
    {
      "cell_type": "code",
      "execution_count": null,
      "metadata": {
        "colab": {
          "base_uri": "https://localhost:8080/"
        },
        "id": "cIyNCZAlCnI5",
        "outputId": "86d51d88-5d42-4189-c1bc-8054e644e437"
      },
      "outputs": [
        {
          "output_type": "stream",
          "name": "stdout",
          "text": [
            "Drive already mounted at /content/drive; to attempt to forcibly remount, call drive.mount(\"/content/drive\", force_remount=True).\n"
          ]
        }
      ],
      "source": [
        "from google.colab import drive\n",
        "drive.mount('/content/drive')"
      ]
    },
    {
      "cell_type": "code",
      "source": [
        "#using the google api using the command below:\n",
        "from google.colab import userdata\n",
        "\n",
        "#install api key from secretes and get it from there\n",
        "#gemini api key is below\n",
        "api_key = userdata.get('GOOGLE_API_KEY')\n",
        "\n",
        "#DO NOT PRINT api_key: will leak it!\n",
        "\n",
        "from google import genai\n",
        "from google.genai import types\n",
        "import pathlib\n",
        "import httpx\n",
        "\n",
        "#the gemini api is running on a server. the gemini api key is used to COMMUNICATE with this gemini api server.\n",
        "#1) authentication: the gemini api key authenticates who you are to the server\n",
        "#2) authorization: the gemini api key makes sure that you are allowed to call these functions\n",
        "#client is using the gemini api_key\n",
        "gemini_client = genai.Client(api_key=api_key)"
      ],
      "metadata": {
        "id": "U0mjiuiNUkEW"
      },
      "execution_count": null,
      "outputs": []
    },
    {
      "cell_type": "code",
      "source": [
        "\n",
        "def getVideoSummary(VideoFilePath,client):\n",
        "  \"\"\"\n",
        "    Generates a short caption for video files\n",
        "    Only for videos of size <20Mb\n",
        "    \"\"\"\n",
        "\n",
        "  #we are passing in the video file path, reading the contents of the file into video bytes\n",
        "  video_file_path =  VideoFilePath\n",
        "  video_bytes = open(video_file_path, 'rb').read()\n",
        "\n",
        "  #client: has gemini api key to access gemini api server and is a client for the GEMINI REST API where it can access gemini functions from the REST API\n",
        "  #client is sending a request to the server (the REST API) calling the generate_content function (a function in the  Gemini API)\n",
        "  #generate_content parameters: specifies model as gemini-2.5-flash,\n",
        "    #inside of contents parameter, specifies type of file and send data via video bytes, and gives a prompt on what to do\n",
        "  #inside the response parameter, it gets back the 3 sentence summary\n",
        "  response = client.models.generate_content(\n",
        "    model='models/gemini-2.5-flash',\n",
        "    contents=types.Content(\n",
        "        parts=[\n",
        "            types.Part(\n",
        "                inline_data=types.Blob(data=video_bytes, mime_type='video/mp4')\n",
        "            ),\n",
        "            types.Part(text='Please summarize the video in 3 sentences.')\n",
        "        ]\n",
        "    )\n",
        " )\n",
        "  return response.text\n",
        "\n",
        "\n"
      ],
      "metadata": {
        "id": "LLWuZIc3lS1r"
      },
      "execution_count": null,
      "outputs": []
    },
    {
      "cell_type": "code",
      "source": [
        "\n",
        "def getPDFSummary(PDFFilePath,client):\n",
        "   \"\"\"\n",
        "    Generates a short caption for PDF.\n",
        "    \"\"\"\n",
        "\n",
        "  #Retrieve and encode the PDF byte\n",
        "  file_path = pathlib.Path(PDFFilePath)\n",
        "\n",
        "  #Upload the pdf using the File API\n",
        "  sample_file = client.files.upload(\n",
        "    file = file_path,\n",
        "  )\n",
        "\n",
        "  prompt = \"Summarize the Document\"\n",
        "\n",
        "  #client is sending a request to the REST API server and wants to use the generate_content function on the REST API SERVER\n",
        "  #parameters: model (gemini-2.5-flash),contents has the pdf file to pass in and prompt of what we want to do\n",
        "  response = client.models.generate_content(\n",
        "      model = \"gemini-2.5-flash\",\n",
        "      contents = [sample_file,\"Summarize the Document\"]\n",
        "  )\n",
        "  #response CONTAINS THE SUMMARY and by saying 'return response.text' we are saying to only return the text portion of the response\n",
        "  return response.text\n",
        "\n",
        "\n"
      ],
      "metadata": {
        "id": "RhQqrmQOpcNX"
      },
      "execution_count": null,
      "outputs": []
    },
    {
      "cell_type": "code",
      "source": [
        "def getImageSummary(ImageFilePath, client, max_words=30):\n",
        "    \"\"\"\n",
        "    Generates a short caption for an image.\n",
        "    max_words = the maximum number of words in the returned caption.\n",
        "    \"\"\"\n",
        "\n",
        "    # Read image bytes\n",
        "    with open(ImageFilePath, 'rb') as f:\n",
        "        image_bytes = f.read()\n",
        "\n",
        "    prompt = f\"Caption this image in under {max_words} words, concise and vivid.\"\n",
        "\n",
        "    # Send request with a prompt that explicitly asks for brevity\n",
        "    response = client.models.generate_content(\n",
        "        model=\"gemini-2.5-flash\",\n",
        "        contents=[\n",
        "            types.Part.from_bytes(\n",
        "                data=image_bytes,\n",
        "                mime_type=\"image/jpeg\"\n",
        "            ),\n",
        "            prompt\n",
        "            #f\"Caption this image in under {max_words} words, concise and vivid.\"\n",
        "        ]\n",
        "    )\n",
        "\n",
        "    return response.text.strip()\n"
      ],
      "metadata": {
        "id": "j50qwTiLnXy8"
      },
      "execution_count": null,
      "outputs": []
    },
    {
      "cell_type": "code",
      "source": [
        "def getTextSummary(txtFilePath, client):\n",
        "    \"\"\"\n",
        "    Generates a short summary of a text file.\n",
        "    \"\"\"\n",
        "\n",
        "    with open(txtFilePath, 'r') as f:\n",
        "        text = f.read()\n",
        "    prompt = \"Summarize the Document\"\n",
        "\n",
        "    response = client.models.generate_content(\n",
        "        model=\"gemini-2.5-flash\",\n",
        "        contents=[\n",
        "            types.Part(text=text),\n",
        "            prompt\n",
        "        ]\n",
        "\n",
        "    )\n",
        "\n",
        "    return response.text\n"
      ],
      "metadata": {
        "id": "un7d9Biok6IT"
      },
      "execution_count": null,
      "outputs": []
    },
    {
      "cell_type": "code",
      "source": [
        "#Function of getfileSummary to get the summary for the designated file passed in\n",
        "#calls other helper functions that were written above\n",
        "\n",
        "def getFileSummary(FileType, FilePath,client):\n",
        "  if FileType == '.mp4':\n",
        "    return getVideoSummary(FilePath,client)\n",
        "  elif FileType == '.pdf':\n",
        "    return getPDFSummary(FilePath,client)\n",
        "  elif FileType == '.jpg' or FileType == \".jpeg\" or FileType == \".webp\":\n",
        "    return getImageSummary(FilePath,client)\n",
        "  elif FileType == '.txt':\n",
        "    return getTextSummary(FilePath,client)\n",
        "  else:\n",
        "    return \"Invalid File Type\""
      ],
      "metadata": {
        "id": "Vmu3jjAsECBs"
      },
      "execution_count": null,
      "outputs": []
    },
    {
      "cell_type": "code",
      "source": [
        "#milvus installations are below:\n",
        "!pip install -U pymilvus\n",
        "!pip install --upgrade pymilvus\n",
        "!pip install \"pymilvus[model]\""
      ],
      "metadata": {
        "id": "wTyZtTfdtB-b"
      },
      "execution_count": null,
      "outputs": []
    },
    {
      "cell_type": "code",
      "source": [
        "from pymilvus import model"
      ],
      "metadata": {
        "id": "9LKFE8vsJpcN"
      },
      "execution_count": null,
      "outputs": []
    },
    {
      "cell_type": "code",
      "source": [
        "#SETTING UP VECTOR DATA BASE: creating a database on the mounted google drive\n",
        "#sets up data base in the project_work.db file on google drive\n",
        "\n",
        "#declaring the client here and connecting it to project_work database!\n",
        "from pymilvus import MilvusClient\n",
        "\n",
        "milvus_client= MilvusClient(\"/content/drive/MyDrive/project_work.db\")\n",
        "\n",
        "collection_name = \"project_collection\""
      ],
      "metadata": {
        "id": "urqFn6OMrxia"
      },
      "execution_count": null,
      "outputs": []
    },
    {
      "cell_type": "code",
      "source": [
        "import os\n",
        "import time\n",
        "def getInformationForEachFile(folderPath,gemini_client,milvus_client):\n",
        "\n",
        "  folderPathArray = []\n",
        "\n",
        "  for item_name in os.listdir(folderPath):\n",
        "        item_path = os.path.join(folderPath, item_name)\n",
        "        print(\"Processing: \" + item_path)\n",
        "        #item_path: full path to item (file or folder), combines folder and item_name\n",
        "\n",
        "        if os.path.isfile(item_path):\n",
        "\n",
        "            #print(f\"File: {item_name}\")\n",
        "            _, extension = os.path.splitext(item_name)\n",
        "            ext = extension.lower()\n",
        "            #summary = getFileSummary(extension,item_path,gemini_client)\n",
        "\n",
        "            if ext in [\".jpeg\",\".webp\",\".jpg\"]:\n",
        "              summary = getImageSummary(item_path,gemini_client)\n",
        "            elif ext in [\".pdf\"]:\n",
        "              summary = getPDFSummary(item_path,gemini_client)\n",
        "            elif ext in [\".mp4\",\".mov\"]:\n",
        "              summary = getVideoSummary(item_path,gemini_client)\n",
        "            elif ext in [\".txt\"]:\n",
        "              summary = getTextSummary(item_path,gemini_client)\n",
        "            else:\n",
        "              summary = \"Invalid File Type\"\n",
        "\n",
        "            embedding_fn = model.DefaultEmbeddingFunction()\n",
        "            vectors = embedding_fn.encode_documents([summary])\n",
        "\n",
        "            item_path = item_path.split(\"Static/\",1)[1]\n",
        "\n",
        "            folderPathArray.append({\"text\":summary,\"embedding\":vectors[0], \"FilePath\":item_path, \"FileExtension\":ext})\n",
        "        elif os.path.isdir(item_path):\n",
        "            print(f\"Directory: {item_name}\")\n",
        "            # You can recursively iterate into subdirectories if needed\n",
        "            # For example: iterate_folder(item_path)\n",
        "        time.sleep(5)  # Pause for 5 seconds\n",
        "        print(\"5 seconds have passed.\")\n",
        "  return folderPathArray"
      ],
      "metadata": {
        "id": "W7wZHw5CBSiR"
      },
      "execution_count": null,
      "outputs": []
    },
    {
      "cell_type": "code",
      "source": [
        "#function to insert summaries into the client collection\n",
        "def insertDataIntoCollection(folderpath, gemini_client, milvus_client, collection_name):\n",
        "\n",
        "  data = getInformationForEachFile(folderpath,gemini_client,milvus_client)\n",
        "\n",
        "  print(data)\n",
        "\n",
        "  #uses milvus client to insert data into the appropriate collection for the project (project_collection)\n",
        "  res = milvus_client.insert(collection_name=collection_name,data=data)\n",
        "  print(res)\n"
      ],
      "metadata": {
        "id": "AfaSEnwnPxnf"
      },
      "execution_count": null,
      "outputs": []
    },
    {
      "cell_type": "code",
      "source": [
        "#testing insertDataIntoCollection function for IMAGE SUMMARIES: WORKS!!\n",
        "\n",
        "folderPath = '/content/drive/My Drive/Flask/Static/Images/Samples'\n",
        "insertDataIntoCollection(folderPath,gemini_client,milvus_client,collection_name)"
      ],
      "metadata": {
        "id": "7A7pHbfdsGiM"
      },
      "execution_count": null,
      "outputs": []
    },
    {
      "cell_type": "code",
      "source": [
        "#testing insertDataIntoCollection function for PDF SUMMARIES: WORKS!!\n",
        "\n",
        "folderPathPDF = '/content/drive/My Drive/Flask/Static/PDF/Samples'\n",
        "insertDataIntoCollection(folderPathPDF,gemini_client,milvus_client,collection_name)"
      ],
      "metadata": {
        "id": "GqUGauzHIrmY"
      },
      "execution_count": null,
      "outputs": []
    },
    {
      "cell_type": "code",
      "source": [
        "#testing insertDataIntoCollection function for Video Summaries: PENDING\n",
        "folderPathVideos = '/content/drive/My Drive/Flask/Static/Videos/Samples'\n",
        "insertDataIntoCollection(folderPathVideos,gemini_client,milvus_client,collection_name)"
      ],
      "metadata": {
        "id": "nxogHMKvW08R"
      },
      "execution_count": null,
      "outputs": []
    },
    {
      "cell_type": "code",
      "source": [
        "#testing insertDataIntoCollection function for Text Summaries: WORKS!!\n",
        "folderPathText = '/content/drive/My Drive/Flask/Static/Text/Samples'\n",
        "insertDataIntoCollection(folderPathText,gemini_client,milvus_client,collection_name)"
      ],
      "metadata": {
        "id": "UkHv3uGGgaEv"
      },
      "execution_count": null,
      "outputs": []
    }
  ]
}
