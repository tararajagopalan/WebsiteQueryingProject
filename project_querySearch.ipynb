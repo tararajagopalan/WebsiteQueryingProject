{
  "nbformat": 4,
  "nbformat_minor": 0,
  "metadata": {
    "colab": {
      "provenance": [],
      "mount_file_id": "1I8CZxNzWFEwE5c4EcbtCQvnvVbZxLsdB",
      "authorship_tag": "ABX9TyPdZoaVN09QBbZpsvSt7NCK",
      "include_colab_link": true
    },
    "kernelspec": {
      "name": "python3",
      "display_name": "Python 3"
    },
    "language_info": {
      "name": "python"
    }
  },
  "cells": [
    {
      "cell_type": "markdown",
      "metadata": {
        "id": "view-in-github",
        "colab_type": "text"
      },
      "source": [
        "<a href=\"https://colab.research.google.com/github/tararajagopalan/WebsiteQueryingProject/blob/main/project_querySearch.ipynb\" target=\"_parent\"><img src=\"https://colab.research.google.com/assets/colab-badge.svg\" alt=\"Open In Colab\"/></a>"
      ]
    },
    {
      "cell_type": "code",
      "execution_count": null,
      "metadata": {
        "id": "1lgxT6py45UJ"
      },
      "outputs": [],
      "source": [
        "#INSTALLING PYMILVUS\n",
        "\n",
        "!pip install -U pymilvus\n",
        "!pip install --upgrade pymilvus\n",
        "!pip install \"pymilvus[model]\""
      ]
    },
    {
      "cell_type": "code",
      "source": [
        "#SETTING UP VECTOR DATA BASE: creating a database on the mounted google drive\n",
        "#sets up data base in the milvus_demo.db file on google drive\n",
        "from pymilvus import MilvusClient\n",
        "\n",
        "milvus_client = MilvusClient(\"/content/drive/MyDrive/project_work.db\")"
      ],
      "metadata": {
        "id": "EwtJq6Wn5seL"
      },
      "execution_count": null,
      "outputs": []
    },
    {
      "cell_type": "code",
      "source": [
        "milvus_client.describe_collection(\"project_collection\")"
      ],
      "metadata": {
        "id": "6V40opgh74Ns"
      },
      "execution_count": null,
      "outputs": []
    },
    {
      "cell_type": "code",
      "source": [
        "from pymilvus import model\n",
        "\n",
        "embedding_fn = model.DefaultEmbeddingFunction()"
      ],
      "metadata": {
        "id": "el34sP3w56pm"
      },
      "execution_count": null,
      "outputs": []
    },
    {
      "cell_type": "code",
      "source": [
        "query_vectors = embedding_fn.encode_queries([\"What is a Unicorn?\"])\n",
        "\n",
        "\n",
        "search_params = {\n",
        "    \"metric_type\": \"L2\",          # or \"IP\" depending on your index\n",
        "    \"params\": {\"nprobe\": 10}\n",
        "}\n"
      ],
      "metadata": {
        "id": "o8O_-XOn6PFq"
      },
      "execution_count": null,
      "outputs": []
    },
    {
      "cell_type": "code",
      "source": [
        "print(len(query_vectors[0]))\n",
        "\n",
        "milvus_client.describe_collection(\"project_collection\")"
      ],
      "metadata": {
        "id": "GpxGp3se971p"
      },
      "execution_count": null,
      "outputs": []
    },
    {
      "cell_type": "code",
      "source": [
        "search_params = {\n",
        "    \"metric_type\": \"L2\",    # match your index metric\n",
        "    \"params\": {\"nprobe\": 10}\n",
        "}\n",
        "\n",
        "#performs a semantic vector search using the query vector query_vectors\n",
        "#searches within existing collection demo_collection and returns the top 2 similar results to the input query: query_vectors\n",
        "res = milvus_client.search(\n",
        "    collection_name=\"project_collection\",\n",
        "    data=query_vectors,\n",
        "    anns_field=\"embedding\",\n",
        "    search_params = search_params,\n",
        "    limit=2, #returns top 2 similar results\n",
        "    output_fields=[\"text\",\"FilePath\",\"FileExtension\"], #this is what you select -> in SQL: select text, subject from demo_collection where vector is similar to data\n",
        "\n",
        ")\n",
        "\n",
        "#2 relevant entries to the query are basically printed below\n",
        "print(res)"
      ],
      "metadata": {
        "id": "zjMmqrSZ9XHs"
      },
      "execution_count": null,
      "outputs": []
    },
    {
      "cell_type": "code",
      "source": [
        "#performs a semantic vector search using the query vector query_vectors\n",
        "#searches within existing collection demo_collection and returns the top 2 similar results to the input query: query_vectors\n",
        "\n",
        "query_vectors1 = embedding_fn.encode_queries([\"How do I make brownies?\"])\n",
        "\n",
        "res1 = milvus_client.search(\n",
        "    collection_name=\"project_collection\",\n",
        "    data=query_vectors1,\n",
        "    anns_field=\"embedding\",\n",
        "    search_params = search_params,\n",
        "    limit=2, #returns top 2 similar results\n",
        "    output_fields=[\"text\",\"FilePath\",\"FileExtension\"], #this is what you select -> in SQL: select text, subject from demo_collection where vector is similar to data\n",
        "\n",
        ")\n",
        "\n",
        "#2 relevant entries to the query are basically printed below\n",
        "print(res1)"
      ],
      "metadata": {
        "id": "14T7U5YZFlWq"
      },
      "execution_count": null,
      "outputs": []
    },
    {
      "cell_type": "code",
      "source": [
        "from pprint import pprint"
      ],
      "metadata": {
        "id": "QRR9bbiAWvW-"
      },
      "execution_count": null,
      "outputs": []
    },
    {
      "cell_type": "code",
      "source": [
        "#performs a semantic vector search using the query vector query_vectors\n",
        "#searches within existing collection demo_collection and returns the top 2 similar results to the input query: query_vectors\n",
        "\n",
        "query_vectors2 = embedding_fn.encode_queries([\"Instructions on How to Dance\"])\n",
        "\n",
        "res2 = milvus_client.search(\n",
        "    collection_name=\"project_collection\",\n",
        "    data=query_vectors2,\n",
        "    anns_field=\"embedding\",\n",
        "    search_params = search_params,\n",
        "    limit=1, #returns top 2 similar results\n",
        "    output_fields=[\"text\",\"FilePath\",\"FileExtension\"], #this is what you select -> in SQL: select text, subject from demo_collection where vector is similar to data\n",
        "\n",
        ")\n",
        "\n",
        "#2 relevant entries to the query are basically printed below\n",
        "print(res2)\n",
        "pprint(res2)"
      ],
      "metadata": {
        "id": "clJ1ZcJcGp2P"
      },
      "execution_count": null,
      "outputs": []
    },
    {
      "cell_type": "code",
      "source": [
        "#performs a semantic vector search using the query vector query_vectors\n",
        "#searches within existing collection demo_collection and returns the top 2 similar results to the input query: query_vectors\n",
        "\n",
        "query_vectors3 = embedding_fn.encode_queries([\"Advice for training a golden retriever\"])\n",
        "\n",
        "res3 = milvus_client.search(\n",
        "    collection_name=\"project_collection\",\n",
        "    data=query_vectors3,\n",
        "    anns_field=\"embedding\",\n",
        "    search_params = search_params,\n",
        "    limit=2, #returns top 2 similar results\n",
        "    output_fields=[\"text\",\"FilePath\",\"FileExtension\"], #this is what you select -> in SQL: select text, subject from demo_collection where vector is similar to data\n",
        "\n",
        ")\n",
        "\n",
        "#2 relevant entries to the query are basically printed below\n",
        "print(res3)"
      ],
      "metadata": {
        "id": "C_UnhIiGG7Ol"
      },
      "execution_count": null,
      "outputs": []
    },
    {
      "cell_type": "code",
      "source": [
        "import os\n",
        "\n",
        "\n",
        "#performs a semantic vector search using the query vector query_vectors\n",
        "#searches within existing collection demo_collection and returns the top 2 similar results to the input query: query_vectors\n",
        "\n",
        "query_vectors4 = embedding_fn.encode_queries([\"Show me a house tour\"])\n",
        "\n",
        "res4 = milvus_client.search(\n",
        "    collection_name=\"project_collection\",\n",
        "    data=query_vectors4,\n",
        "    anns_field=\"embedding\",\n",
        "    search_params = search_params,\n",
        "    limit=2, #returns top 2 similar results\n",
        "    output_fields=[\"text\",\"FilePath\",\"FileExtension\"], #this is what you select -> in SQL: select text, subject from demo_collection where vector is similar to data\n",
        "\n",
        ")\n",
        "\n",
        "#2 relevant entries to the query are basically printed below\n",
        "print(res4)\n",
        "innerRes4 = res4[0]\n",
        "\n",
        "for dict in innerRes4:\n",
        "  distance = dict.distance\n",
        "  entityDict = dict.entity\n",
        "  textSummary = entityDict.text\n",
        "  FilePath = entityDict.FilePath\n",
        "  FileExtension = entityDict.FileExtension\n",
        "  print(distance)\n",
        "  print(\"---------------------------\")\n",
        "  print(textSummary)\n",
        "  print(\"---------------------------\")\n",
        "  print(FilePath)\n",
        "  print(\"---------------------------\")\n",
        "  Filename = os.path.basename(FilePath)\n",
        "  print(Filename)  # Output: House.mov\n",
        "  print(\"---------------------------\")\n",
        "  print(FileExtension)"
      ],
      "metadata": {
        "id": "AygLxUQWFjHC"
      },
      "execution_count": null,
      "outputs": []
    },
    {
      "cell_type": "code",
      "source": [
        "print(\"Query vector length:\", len(query_vectors[0]))\n"
      ],
      "metadata": {
        "id": "eXfM9euf-g3d"
      },
      "execution_count": null,
      "outputs": []
    }
  ]
}