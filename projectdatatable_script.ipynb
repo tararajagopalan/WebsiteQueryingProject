{
  "nbformat": 4,
  "nbformat_minor": 0,
  "metadata": {
    "colab": {
      "provenance": [],
      "mount_file_id": "1MlfIaej0HO5U3mxqAsCR1RwgZ_t3kTkb",
      "authorship_tag": "ABX9TyPzdfSzQDpbzaaHI2n3PWCs",
      "include_colab_link": true
    },
    "kernelspec": {
      "name": "python3",
      "display_name": "Python 3"
    },
    "language_info": {
      "name": "python"
    }
  },
  "cells": [
    {
      "cell_type": "markdown",
      "metadata": {
        "id": "view-in-github",
        "colab_type": "text"
      },
      "source": [
        "<a href=\"https://colab.research.google.com/github/tararajagopalan/WebsiteQueryingProject/blob/main/projectdatatable_script.ipynb\" target=\"_parent\"><img src=\"https://colab.research.google.com/assets/colab-badge.svg\" alt=\"Open In Colab\"/></a>"
      ]
    },
    {
      "cell_type": "code",
      "execution_count": null,
      "metadata": {
        "id": "M0rgk91K70C1"
      },
      "outputs": [],
      "source": [
        "#INSTALLING PYMILVUS\n",
        "\n",
        "!pip install -U pymilvus\n",
        "!pip install --upgrade pymilvus\n",
        "!pip install \"pymilvus[model]\""
      ]
    },
    {
      "cell_type": "code",
      "source": [
        "#SETTING UP VECTOR DATA BASE: creating a database on the mounted google drive\n",
        "#sets up data base in the project_work.db file on google drive\n",
        "from pymilvus import MilvusClient\n",
        "\n",
        "client = MilvusClient(\"/content/drive/MyDrive/project_work.db\")"
      ],
      "metadata": {
        "id": "snNaA1yi8eIq"
      },
      "execution_count": null,
      "outputs": []
    },
    {
      "cell_type": "code",
      "source": [
        "#checks to see if client has collection table project_collection; if it alr does, then drop it!\n",
        "if client.has_collection(collection_name=\"project_collection\"):\n",
        "  client.drop_collection(collection_name=\"project_collection\")"
      ],
      "metadata": {
        "id": "7SXJHMVE9ClC"
      },
      "execution_count": null,
      "outputs": []
    },
    {
      "cell_type": "code",
      "source": [
        "from pymilvus import connections, Collection, FieldSchema, CollectionSchema, DataType\n",
        "\n",
        "#below are all of the fields that we want in the project_collection table!\n",
        "#FileName is probably going to be the path of the file or name of the file?\n",
        "#FileExtension is the file type; ex .pdf is pdf, .mp4 is video, .jgp is photo\n",
        "\n",
        "fields = [\n",
        "    FieldSchema(name=\"id\", dtype=DataType.INT64, is_primary=True, auto_id=True), #automatically fills in the id field\n",
        "    FieldSchema(name=\"text\", dtype=DataType.VARCHAR, max_length=2048),\n",
        "    FieldSchema(name=\"embedding\", dtype=DataType.FLOAT_VECTOR, dim=768),\n",
        "    FieldSchema(name=\"FilePath\", dtype=DataType.VARCHAR, max_length=80),\n",
        "    FieldSchema(name=\"FileExtension\", dtype=DataType.VARCHAR, max_length=80)\n",
        "]\n",
        "\n",
        "schema = CollectionSchema(fields=fields)"
      ],
      "metadata": {
        "id": "E6L2nLI19jWK"
      },
      "execution_count": null,
      "outputs": []
    },
    {
      "cell_type": "code",
      "source": [
        "# Create the collection called project_collection with the schema created in the previous code block\n",
        "client.create_collection(\n",
        "    collection_name=\"project_collection\",\n",
        "    schema=schema,\n",
        ")"
      ],
      "metadata": {
        "id": "plT8n_Sq971n"
      },
      "execution_count": null,
      "outputs": []
    },
    {
      "cell_type": "code",
      "source": [
        "index_params = client.prepare_index_params()\n",
        "\n",
        "#adding an index called 'vector_index' of type 'IVF_FLAT' for the field 'embedding'\n",
        "#instead of cosine similarity its using L2 similarity\n",
        "index_params.add_index(\n",
        "    field_name=\"embedding\", # Name of the vector field to be indexed\n",
        "    index_type=\"IVF_FLAT\", # Type of the index to create\n",
        "    index_name=\"vector_index\", # Name of the index to create\n",
        "    metric_type=\"L2\", # Metric type used to measure similarity\n",
        "    params={\n",
        "        \"nlist\": 128, # Number of clusters for the index\n",
        "    } # Index building params\n",
        ")\n",
        "\n",
        "client.create_index(\n",
        "        collection_name=\"project_collection\",\n",
        "        index_params=index_params,\n",
        "    )\n",
        "\n",
        "client.flush(\"project_collection\")"
      ],
      "metadata": {
        "id": "_f_W_5SR_kfU"
      },
      "execution_count": null,
      "outputs": []
    }
  ]
}